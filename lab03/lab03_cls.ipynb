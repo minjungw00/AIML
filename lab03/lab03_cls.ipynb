{
 "cells": [
  {
   "cell_type": "markdown",
   "id": "17c0f1fd-462e-4cf9-a842-972a71019150",
   "metadata": {},
   "source": [
    "# [LAB#03] 나이브 베이즈 (naive bayes)\n",
    "\n",
    "- 분석 데이터: \"**제7차 한국인 인체치수 측정 데이터**\"\n",
    "- 나이브 베이즈를 직접 구현 (naive bayes from scratch)"
   ]
  },
  {
   "cell_type": "markdown",
   "id": "d0271e78-9b24-4d0a-8dbc-9ad3484d6f07",
   "metadata": {},
   "source": [
    "<img src=\"objective.png\" width=\"700px\">"
   ]
  },
  {
   "cell_type": "code",
   "execution_count": 16,
   "id": "e26fc76d-33f8-4bb5-aeed-d1462d623744",
   "metadata": {
    "tags": []
   },
   "outputs": [],
   "source": [
    "import numpy as np\n",
    "from scipy.stats import norm\n",
    "from scipy.stats import skewnorm\n",
    "import pandas as pd"
   ]
  },
  {
   "cell_type": "markdown",
   "id": "12aa1068-e4ba-4594-a17d-4c85f65e2b0a",
   "metadata": {},
   "source": [
    "## 데이터 준비"
   ]
  },
  {
   "cell_type": "code",
   "execution_count": 18,
   "id": "f8e0c10e-d502-41e1-9989-05b33369ddea",
   "metadata": {},
   "outputs": [],
   "source": [
    "df = pd.read_csv(\"2015_7th_korbody.csv\",\n",
    "                 thousands=',')\n",
    "\n",
    "features = [\"ⓞ_02_성별\",\n",
    "            \"①_003_키\",\n",
    "            \"①_031_몸무게\",\n",
    "            \"①_104_손너비\"]\n",
    "\n",
    "sdf = df[features].copy()\n",
    "sdf = sdf.sample(frac=1).reset_index(drop=True)  # Shuffle the data\n",
    "\n",
    "sdf.columns = [\"sex\", \"height\", \"weight\", \"hand_width\"]\n",
    "\n",
    "sdf.loc[sdf[\"sex\"] == \"남\", \"sex\"] = 0\n",
    "sdf.loc[sdf[\"sex\"] == \"여\", \"sex\"] = 1\n",
    "\n",
    "sdf.dropna(inplace=True)"
   ]
  },
  {
   "cell_type": "code",
   "execution_count": 19,
   "id": "28e52739-8a79-4059-8d6f-dee04fb8d51f",
   "metadata": {},
   "outputs": [
    {
     "data": {
      "text/html": [
       "<div>\n",
       "<style scoped>\n",
       "    .dataframe tbody tr th:only-of-type {\n",
       "        vertical-align: middle;\n",
       "    }\n",
       "\n",
       "    .dataframe tbody tr th {\n",
       "        vertical-align: top;\n",
       "    }\n",
       "\n",
       "    .dataframe thead th {\n",
       "        text-align: right;\n",
       "    }\n",
       "</style>\n",
       "<table border=\"1\" class=\"dataframe\">\n",
       "  <thead>\n",
       "    <tr style=\"text-align: right;\">\n",
       "      <th></th>\n",
       "      <th>sex</th>\n",
       "      <th>height</th>\n",
       "      <th>weight</th>\n",
       "      <th>hand_width</th>\n",
       "    </tr>\n",
       "  </thead>\n",
       "  <tbody>\n",
       "    <tr>\n",
       "      <th>0</th>\n",
       "      <td>1</td>\n",
       "      <td>1580.0</td>\n",
       "      <td>65.0</td>\n",
       "      <td>79.0</td>\n",
       "    </tr>\n",
       "    <tr>\n",
       "      <th>1</th>\n",
       "      <td>0</td>\n",
       "      <td>1733.0</td>\n",
       "      <td>63.6</td>\n",
       "      <td>77.0</td>\n",
       "    </tr>\n",
       "    <tr>\n",
       "      <th>2</th>\n",
       "      <td>0</td>\n",
       "      <td>1683.0</td>\n",
       "      <td>59.6</td>\n",
       "      <td>75.0</td>\n",
       "    </tr>\n",
       "    <tr>\n",
       "      <th>3</th>\n",
       "      <td>1</td>\n",
       "      <td>1612.0</td>\n",
       "      <td>52.6</td>\n",
       "      <td>75.0</td>\n",
       "    </tr>\n",
       "    <tr>\n",
       "      <th>4</th>\n",
       "      <td>1</td>\n",
       "      <td>1595.0</td>\n",
       "      <td>50.5</td>\n",
       "      <td>70.0</td>\n",
       "    </tr>\n",
       "  </tbody>\n",
       "</table>\n",
       "</div>"
      ],
      "text/plain": [
       "  sex  height  weight  hand_width\n",
       "0   1  1580.0    65.0        79.0\n",
       "1   0  1733.0    63.6        77.0\n",
       "2   0  1683.0    59.6        75.0\n",
       "3   1  1612.0    52.6        75.0\n",
       "4   1  1595.0    50.5        70.0"
      ]
     },
     "execution_count": 19,
     "metadata": {},
     "output_type": "execute_result"
    }
   ],
   "source": [
    "sdf.head()"
   ]
  },
  {
   "cell_type": "markdown",
   "id": "85fa8dff-3b82-49a2-b0e7-a35f19170576",
   "metadata": {},
   "source": [
    "## 데이터 나누기"
   ]
  },
  {
   "cell_type": "code",
   "execution_count": 20,
   "id": "0f4b4e90-f7f8-4ee2-9f8a-3d12f7c2b772",
   "metadata": {},
   "outputs": [],
   "source": [
    "iend_train = 51\n",
    "sdf_train = sdf.loc[:iend_train]\n",
    "sdf_test = sdf.loc[iend_train:]\n",
    "\n",
    "sdf_train = sdf_train.reset_index(drop=True) \n",
    "sdf_test = sdf_test.reset_index(drop=True)"
   ]
  },
  {
   "cell_type": "code",
   "execution_count": 21,
   "id": "e6a438f1-6a04-4e57-b679-4b9f1409f3fe",
   "metadata": {},
   "outputs": [],
   "source": [
    "sdf_train_male = sdf_train[sdf_train[\"sex\"] == 0]\n",
    "sdf_train_female = sdf_train[sdf_train[\"sex\"] == 1]\n",
    "\n",
    "sdf_test_male = sdf_test[sdf_test[\"sex\"] == 0]\n",
    "sdf_test_female = sdf_test[sdf_test[\"sex\"] == 1]"
   ]
  },
  {
   "cell_type": "code",
   "execution_count": 22,
   "id": "728eb14f-d53e-4d60-8a9e-7194f9e9a3bb",
   "metadata": {},
   "outputs": [
    {
     "name": "stdout",
     "output_type": "stream",
     "text": [
      "[Train]\n",
      "- Num. People: 52\n",
      "- Num. Males: 27\n",
      "- Num. Females: 25\n",
      "[Test]\n",
      "- Num. People: 6361\n",
      "- Num. Males: 3164\n",
      "- Num. Females: 3197\n"
     ]
    }
   ],
   "source": [
    "print(\"[Train]\")\n",
    "print(\"- Num. People:\", sdf_train.shape[0])\n",
    "print(\"- Num. Males:\", sdf_train_male.shape[0])\n",
    "print(\"- Num. Females:\", sdf_train_female.shape[0])\n",
    "\n",
    "print(\"[Test]\")\n",
    "print(\"- Num. People:\", sdf_test.shape[0])\n",
    "print(\"- Num. Males:\", sdf_test_male.shape[0])\n",
    "print(\"- Num. Females:\", sdf_test_female.shape[0])"
   ]
  },
  {
   "cell_type": "markdown",
   "id": "f87c14ee-d50e-47f7-a922-93a63f1db7d6",
   "metadata": {},
   "source": [
    "## 모델 훈련\n",
    "나이브 베이즈에서 모델을 훈련하는 것은 개별 피쳐의 분포를 결정하고 분포의 파라미터를 추정하는 것으로 정의할 수 있음.\n",
    "\n",
    "- 피쳐의 분포 결정\n",
    "- 피쳐 분포의 파라미터 추정/적합"
   ]
  },
  {
   "cell_type": "code",
   "execution_count": 23,
   "id": "82c4fc18-242b-4324-8425-949738bed2d5",
   "metadata": {},
   "outputs": [],
   "source": [
    "mh_mu, mh_std = norm.fit(sdf_train_male[\"height\"])\n",
    "fh_mu, fh_std = norm.fit(sdf_train_female[\"height\"])\n",
    "\n",
    "mw_a, mw_loc, mw_scale = skewnorm.fit(sdf_train_male[\"weight\"])\n",
    "fw_a, fw_loc, fw_scale = skewnorm.fit(sdf_train_female[\"weight\"])\n",
    "\n",
    "mhw_a, mhw_loc, mhw_scale = skewnorm.fit(sdf_train_male[\"hand_width\"])\n",
    "fhw_a, fhw_loc, fhw_scale = skewnorm.fit(sdf_train_female[\"hand_width\"])\n",
    "\n",
    "prob_male = sdf_train_male.shape[0] / sdf_train.shape[0]\n",
    "prob_female = sdf_train_female.shape[0] / sdf_train.shape[0]"
   ]
  },
  {
   "cell_type": "code",
   "execution_count": 24,
   "id": "308535fa-0f59-4d73-8892-5f525021c932",
   "metadata": {},
   "outputs": [
    {
     "data": {
      "text/plain": [
       "(0.1333551313233386, 74.44185939605829, 4.154223752137083)"
      ]
     },
     "execution_count": 24,
     "metadata": {},
     "output_type": "execute_result"
    }
   ],
   "source": [
    "fhw_a, fhw_loc, fhw_scale"
   ]
  },
  {
   "cell_type": "code",
   "execution_count": 25,
   "id": "e1a0ca8a-b09b-4b7c-ac3f-840a9daf2bcd",
   "metadata": {},
   "outputs": [
    {
     "data": {
      "text/plain": [
       "(-5.19722475496709, 68.41645233339759, 14.045343318585413)"
      ]
     },
     "execution_count": 25,
     "metadata": {},
     "output_type": "execute_result"
    }
   ],
   "source": [
    "fw_a, fw_loc, fw_scale"
   ]
  },
  {
   "cell_type": "markdown",
   "id": "1c4e68a2-87f3-4426-b6d1-0cb9d25d8b29",
   "metadata": {
    "tags": []
   },
   "source": [
    "## 모델 테스트"
   ]
  },
  {
   "cell_type": "code",
   "execution_count": 26,
   "id": "c189a6fa-2172-4a2c-81f0-d59e4edecdf6",
   "metadata": {
    "tags": []
   },
   "outputs": [],
   "source": [
    "# Calculate probabilities for height\n",
    "x = sdf_test[\"height\"]\n",
    "prob_height_male = norm.pdf(x, mh_mu, mh_std)\n",
    "\n",
    "x = sdf_test[\"height\"]\n",
    "prob_height_female = norm.pdf(x, fh_mu, fh_std)\n",
    "\n",
    "# Calculate probabilities for weight\n",
    "x = sdf_test[\"weight\"]\n",
    "prob_weight_male = skewnorm.pdf(x, mw_a, mw_loc, mw_scale)\n",
    "\n",
    "x = sdf_test[\"weight\"]\n",
    "prob_weight_female = skewnorm.pdf(x, fw_a, fw_loc, fw_scale)\n",
    "\n",
    "# Calculate probabilities for hand width\n",
    "x = sdf_test[\"hand_width\"]\n",
    "prob_hw_male = skewnorm.pdf(x, mhw_a, mhw_loc, mhw_scale)\n",
    "\n",
    "x = sdf_test[\"hand_width\"]\n",
    "prob_hw_female = skewnorm.pdf(x, fhw_a, fhw_loc, fhw_scale)"
   ]
  },
  {
   "cell_type": "code",
   "execution_count": 27,
   "id": "6ad76963-6c6f-4473-8a6f-497ba8abb9a2",
   "metadata": {},
   "outputs": [],
   "source": [
    "prob_male_x = prob_weight_male * prob_weight_male * prob_hw_male * prob_male\n",
    "prob_female_x = prob_weight_female * prob_weight_female * prob_hw_female * prob_female\n",
    "prob_y_x = np.stack([prob_male_x, prob_female_x], axis=1)\n",
    "classified = np.argmax(prob_y_x, axis=1)"
   ]
  },
  {
   "cell_type": "code",
   "execution_count": 28,
   "id": "32cd016d-df58-43cf-a8fb-f55712085969",
   "metadata": {},
   "outputs": [
    {
     "name": "stdout",
     "output_type": "stream",
     "text": [
      "[Result] Accuracy: 0.8176387360477912\n"
     ]
    }
   ],
   "source": [
    "res = (classified == sdf_test[\"sex\"])\n",
    "print(\"[Result] Accuracy:\", res.mean())"
   ]
  }
 ],
 "metadata": {
  "kernelspec": {
   "display_name": "Python 3 (ipykernel)",
   "language": "python",
   "name": "python3"
  },
  "language_info": {
   "codemirror_mode": {
    "name": "ipython",
    "version": 3
   },
   "file_extension": ".py",
   "mimetype": "text/x-python",
   "name": "python",
   "nbconvert_exporter": "python",
   "pygments_lexer": "ipython3",
   "version": "3.11.5"
  }
 },
 "nbformat": 4,
 "nbformat_minor": 5
}
