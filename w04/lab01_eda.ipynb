{
 "cells": [
  {
   "cell_type": "markdown",
   "id": "17c0f1fd-462e-4cf9-a842-972a71019150",
   "metadata": {},
   "source": [
    "# [LAB#01] 탐색적 데이터 분석 (exploratory data analysis, EDA)\n",
    "\n",
    "- 분석 데이터: \"**제7차 한국인 인체치수 측정 데이터**\"\n",
    "- `pandas`의 `DataFrame` 사용법\n",
    "- `matplotlib`을 이용한 그래프 그리기"
   ]
  },
  {
   "cell_type": "code",
   "execution_count": null,
   "id": "6be64cdd-2977-4888-a8cf-7c85f7fda798",
   "metadata": {},
   "outputs": [],
   "source": [
    "!ls"
   ]
  },
  {
   "cell_type": "code",
   "execution_count": null,
   "id": "e26fc76d-33f8-4bb5-aeed-d1462d623744",
   "metadata": {
    "tags": []
   },
   "outputs": [],
   "source": [
    "import numpy as np\n",
    "import scipy as sp\n",
    "from scipy.stats import norm\n",
    "import pandas as pd\n",
    "import matplotlib\n",
    "import matplotlib.pyplot as plt\n",
    "import seaborn as sns\n",
    "\n",
    "matplotlib.rcParams['figure.dpi'] = 300\n",
    "%matplotlib inline"
   ]
  },
  {
   "cell_type": "markdown",
   "id": "8cdd6a2b-b808-47c1-b76e-df2d201cd988",
   "metadata": {},
   "source": [
    "---"
   ]
  },
  {
   "cell_type": "markdown",
   "id": "12aa1068-e4ba-4594-a17d-4c85f65e2b0a",
   "metadata": {},
   "source": [
    "## 데이터 읽고 전처리하기"
   ]
  },
  {
   "cell_type": "code",
   "execution_count": null,
   "id": "f8e0c10e-d502-41e1-9989-05b33369ddea",
   "metadata": {},
   "outputs": [],
   "source": [
    "#df = pd.read_csv(\"2015_7th_korean-body.csv\")\n",
    "df = pd.read_csv(\"2015_7th_korean-body.csv\", thousands=',')"
   ]
  },
  {
   "cell_type": "code",
   "execution_count": null,
   "id": "0f4b4e90-f7f8-4ee2-9f8a-3d12f7c2b772",
   "metadata": {},
   "outputs": [],
   "source": [
    "type(df)"
   ]
  },
  {
   "cell_type": "code",
   "execution_count": null,
   "id": "82c4fc18-242b-4324-8425-949738bed2d5",
   "metadata": {},
   "outputs": [],
   "source": [
    "df.columns"
   ]
  },
  {
   "cell_type": "code",
   "execution_count": null,
   "id": "fc10d15e-bfca-4ffb-a61a-78777899f050",
   "metadata": {},
   "outputs": [],
   "source": [
    "for i, col in enumerate(df.columns):\n",
    "    print(i, col)"
   ]
  },
  {
   "cell_type": "code",
   "execution_count": null,
   "id": "075eb214-6534-42bc-a5e1-b0c3fcf4b526",
   "metadata": {},
   "outputs": [],
   "source": [
    "df.describe()"
   ]
  },
  {
   "cell_type": "code",
   "execution_count": null,
   "id": "16807e93-ea0e-4528-ba10-58993187b4c0",
   "metadata": {},
   "outputs": [],
   "source": [
    "df.shape"
   ]
  },
  {
   "cell_type": "code",
   "execution_count": null,
   "id": "fd9af118-69ca-46b9-9c2f-8afdc54af55a",
   "metadata": {},
   "outputs": [],
   "source": [
    "df[\"①_003_키\"]"
   ]
  },
  {
   "cell_type": "code",
   "execution_count": null,
   "id": "dc77ea12-b300-4583-b643-3556e6950eb4",
   "metadata": {},
   "outputs": [],
   "source": [
    "df[[\"①_003_키\", \"①_031_몸무게\"]]"
   ]
  },
  {
   "cell_type": "code",
   "execution_count": null,
   "id": "e03e5427-0040-4386-b797-af0712ec66dc",
   "metadata": {},
   "outputs": [],
   "source": [
    "sdf = df[[\"①_003_키\", \"①_031_몸무게\"]].copy()"
   ]
  },
  {
   "cell_type": "code",
   "execution_count": null,
   "id": "52b5b6f9-da26-4b32-90c2-39082fe0c3c2",
   "metadata": {},
   "outputs": [],
   "source": [
    "type(sdf)"
   ]
  },
  {
   "cell_type": "code",
   "execution_count": null,
   "id": "26cd9524-6e21-4e5f-983c-99ec0eb0d840",
   "metadata": {},
   "outputs": [],
   "source": [
    "sdf.head(10)"
   ]
  },
  {
   "cell_type": "code",
   "execution_count": null,
   "id": "b0c498d6-2c01-4ca6-93fd-a623359441c3",
   "metadata": {},
   "outputs": [],
   "source": [
    "sdf.dtypes"
   ]
  },
  {
   "cell_type": "code",
   "execution_count": null,
   "id": "526e7739-ec62-4912-aa8f-eb2e1805f7d3",
   "metadata": {},
   "outputs": [],
   "source": [
    "sdf.columns"
   ]
  },
  {
   "cell_type": "code",
   "execution_count": null,
   "id": "da28da75-f839-4a15-90ef-7ce21f982d38",
   "metadata": {},
   "outputs": [],
   "source": [
    "sdf.columns = [\"height\", \"weight\"]"
   ]
  },
  {
   "cell_type": "code",
   "execution_count": null,
   "id": "901467bc-977b-4e17-992f-3e0e06f0c095",
   "metadata": {},
   "outputs": [],
   "source": [
    "sdf.head()"
   ]
  },
  {
   "cell_type": "code",
   "execution_count": null,
   "id": "17bc8ce4-706b-48f8-8b82-3b020670c4c5",
   "metadata": {},
   "outputs": [],
   "source": [
    "sdf[\"height\"]"
   ]
  },
  {
   "cell_type": "code",
   "execution_count": null,
   "id": "25996863-2db5-4deb-9ebc-c96d635a83bc",
   "metadata": {},
   "outputs": [],
   "source": [
    "sdf.height"
   ]
  },
  {
   "cell_type": "code",
   "execution_count": null,
   "id": "55b97cc8-ce4b-4f7e-a233-3dbf82fa154c",
   "metadata": {},
   "outputs": [],
   "source": [
    "sdf[\"height\"].str.replace(',', '')"
   ]
  },
  {
   "cell_type": "code",
   "execution_count": null,
   "id": "11d26942-4462-4e81-a8b7-70da2ae612cd",
   "metadata": {},
   "outputs": [],
   "source": [
    "sdf[\"height\"] = sdf[\"height\"].str.replace(',', '')"
   ]
  },
  {
   "cell_type": "code",
   "execution_count": null,
   "id": "d77900da-5d4e-4912-800a-c2e5b48c3cb9",
   "metadata": {},
   "outputs": [],
   "source": [
    "sdf.head()"
   ]
  },
  {
   "cell_type": "code",
   "execution_count": null,
   "id": "fe0e8370-44a4-4297-8304-f5867aabae81",
   "metadata": {},
   "outputs": [],
   "source": [
    "sdf.dtypes"
   ]
  },
  {
   "cell_type": "code",
   "execution_count": null,
   "id": "0ec36a02-5d50-443f-aef0-506bf68fc13d",
   "metadata": {},
   "outputs": [],
   "source": [
    "sdf = sdf.astype(np.float32)"
   ]
  },
  {
   "cell_type": "code",
   "execution_count": null,
   "id": "aa326da2-484d-4562-876a-7376416374c3",
   "metadata": {},
   "outputs": [],
   "source": [
    "sdf.dtypes"
   ]
  },
  {
   "cell_type": "code",
   "execution_count": null,
   "id": "41df37c0-3354-42b6-a4a2-e0594de0412b",
   "metadata": {},
   "outputs": [],
   "source": [
    "sdf.head()"
   ]
  },
  {
   "cell_type": "markdown",
   "id": "e4d62d41-42f8-489c-90a6-5f8de2e9aeeb",
   "metadata": {},
   "source": [
    "---"
   ]
  },
  {
   "cell_type": "markdown",
   "id": "04933d52-b5c4-4e79-be5d-730d2a9a54a0",
   "metadata": {},
   "source": [
    "## 결측값 처리하기"
   ]
  },
  {
   "cell_type": "code",
   "execution_count": null,
   "id": "2974d967-0137-4dcc-b226-a3f8168dd3b2",
   "metadata": {},
   "outputs": [],
   "source": [
    "sdf.shape"
   ]
  },
  {
   "cell_type": "code",
   "execution_count": null,
   "id": "d3ffad6a-f5c3-4510-a52d-b3c051646eb8",
   "metadata": {},
   "outputs": [],
   "source": [
    "sdf.describe()"
   ]
  },
  {
   "cell_type": "code",
   "execution_count": null,
   "id": "bc40a5e5-266a-4a18-835f-59b34da471c2",
   "metadata": {},
   "outputs": [],
   "source": [
    "sdf.isna()"
   ]
  },
  {
   "cell_type": "code",
   "execution_count": null,
   "id": "ad663b82-9155-4ef6-a705-bce8794fc7b6",
   "metadata": {},
   "outputs": [],
   "source": [
    "sdf.loc[6420]"
   ]
  },
  {
   "cell_type": "code",
   "execution_count": null,
   "id": "d80d2b83-9d1b-4770-8fcb-e47193142d8c",
   "metadata": {},
   "outputs": [],
   "source": [
    "df.loc[6420]"
   ]
  },
  {
   "cell_type": "code",
   "execution_count": null,
   "id": "426dcc61-ec14-4576-a210-e378ea16a9e2",
   "metadata": {},
   "outputs": [],
   "source": [
    "ir, ic = np.where(sdf.isna())\n",
    "ir, ic"
   ]
  },
  {
   "cell_type": "code",
   "execution_count": null,
   "id": "db15a23b-0b25-4ff1-9246-569d7fe4fe45",
   "metadata": {},
   "outputs": [],
   "source": [
    "sdf.isna?"
   ]
  },
  {
   "cell_type": "code",
   "execution_count": null,
   "id": "73b33ff4-9407-4486-b182-3880209258f0",
   "metadata": {},
   "outputs": [],
   "source": [
    "ir.size  # The number of rows that has NA in any column."
   ]
  },
  {
   "cell_type": "code",
   "execution_count": null,
   "id": "4728762e-9bf1-418e-b5c5-362a7b0adaaf",
   "metadata": {},
   "outputs": [],
   "source": [
    "sdf.loc[ir]"
   ]
  },
  {
   "cell_type": "code",
   "execution_count": null,
   "id": "a828a78e-4f23-4468-a6ba-48464c9b4e5c",
   "metadata": {},
   "outputs": [],
   "source": [
    "sdf_nona = sdf.dropna()"
   ]
  },
  {
   "cell_type": "code",
   "execution_count": null,
   "id": "dac431b0-0708-40e9-8aaf-dfd1e236b9d6",
   "metadata": {},
   "outputs": [],
   "source": [
    "sdf.dropna?"
   ]
  },
  {
   "cell_type": "code",
   "execution_count": null,
   "id": "47a0722d-da5b-4c01-84a5-de0c3e5111a6",
   "metadata": {},
   "outputs": [],
   "source": [
    "sdf_nona.describe()"
   ]
  },
  {
   "cell_type": "markdown",
   "id": "e04623bb-b223-473e-a134-cc47adc94cac",
   "metadata": {},
   "source": [
    "---"
   ]
  },
  {
   "cell_type": "markdown",
   "id": "4d3e8cd2-39c6-489f-8731-8ce2479203e2",
   "metadata": {
    "tags": []
   },
   "source": [
    "## pandas에 내장된 matplotlib 기능 이용하기"
   ]
  },
  {
   "cell_type": "code",
   "execution_count": null,
   "id": "f485615c-072f-4af5-94b3-ad484a840212",
   "metadata": {},
   "outputs": [],
   "source": [
    "sdf.plot.scatter(x=\"height\",\n",
    "                 y=\"weight\",\n",
    "                 marker='o',\n",
    "                 color=(0, 0, 1.0, 0.1))"
   ]
  },
  {
   "cell_type": "markdown",
   "id": "92d85b04-bb10-47d1-abc8-be672b9046fa",
   "metadata": {},
   "source": [
    "---"
   ]
  },
  {
   "cell_type": "markdown",
   "id": "f12279e4-ea8b-413f-ad7c-a6fb9820c97c",
   "metadata": {},
   "source": [
    "## matplotlib 함수로 그려보기"
   ]
  },
  {
   "cell_type": "code",
   "execution_count": null,
   "id": "bd3b6431-6a73-4843-bef2-80fdfa9ce680",
   "metadata": {},
   "outputs": [],
   "source": [
    "plt.scatter(sdf.height,\n",
    "            sdf.weight,\n",
    "            marker='o',\n",
    "            color=(0, 0, 1.0, 0.1))\n",
    "plt.xlabel(\"Height\")\n",
    "plt.ylabel(\"Weight\")"
   ]
  },
  {
   "cell_type": "code",
   "execution_count": null,
   "id": "0595b999-2eaf-41e3-917a-bcdf3ac76198",
   "metadata": {},
   "outputs": [],
   "source": [
    "import matplotlib.font_manager as fm\n",
    "\n",
    "for f in fm.fontManager.ttflist:\n",
    "    if 'Malgun' in f.name:\n",
    "        print(f'Font: {f.name}, Path: {f.fname}')"
   ]
  },
  {
   "cell_type": "code",
   "execution_count": null,
   "id": "fc70edab-e34a-4455-b141-8ed1fbde29e8",
   "metadata": {},
   "outputs": [],
   "source": [
    "font_path = r\"C:\\Windows\\Fonts\\malgun.ttf\"\n",
    "font_prop = fm.FontProperties(fname=font_path)\n",
    "font_name = font_prop.get_name()\n",
    "matplotlib.rc('font',family=font_name)"
   ]
  },
  {
   "cell_type": "code",
   "execution_count": null,
   "id": "e2600812-1f0d-4848-ab75-e04173cc786d",
   "metadata": {},
   "outputs": [],
   "source": [
    "for i, col in enumerate(df.columns):\n",
    "    if df[col].dtype not in (np.float32, np.float64):\n",
    "        continue\n",
    "\n",
    "    plt.figure()\n",
    "    plt.scatter(df[col],\n",
    "                df[\"①_031_몸무게\"],\n",
    "                marker='o',\n",
    "                color=(0, 0, 1.0, 0.1))\n",
    "    plt.xlabel(col)\n",
    "    plt.ylabel(\"몸무게\")"
   ]
  },
  {
   "cell_type": "code",
   "execution_count": null,
   "id": "61f0dee2-aa8d-4f83-9f7b-5204629570fd",
   "metadata": {},
   "outputs": [],
   "source": [
    "for i in range(120, df.columns.size):\n",
    "    col = df.columns[i]\n",
    "    if df[col].dtype not in (np.float32, np.float64):\n",
    "        continue\n",
    "\n",
    "    plt.figure()\n",
    "    plt.scatter(df[col],\n",
    "                df[\"①_031_몸무게\"],\n",
    "                marker='o',\n",
    "                color=(0, 0, 1.0, 0.1))\n",
    "    plt.xlabel(col)\n",
    "    plt.ylabel(\"몸무게\")"
   ]
  },
  {
   "cell_type": "markdown",
   "id": "344d7f82-6215-4e3d-9466-6963be9dacdc",
   "metadata": {},
   "source": [
    "---"
   ]
  },
  {
   "cell_type": "markdown",
   "id": "af6ce2e3-e044-43cd-a5be-4df4ac8098a3",
   "metadata": {},
   "source": [
    "## 확률 밀도 함수 그려보기"
   ]
  },
  {
   "cell_type": "markdown",
   "id": "b995af76-1549-4826-9741-2072f852228d",
   "metadata": {},
   "source": [
    "[Wikipedia: normal distribution](https://en.wikipedia.org/wiki/Normal_distribution)\n",
    "\n",
    "<img src=\"https://upload.wikimedia.org/wikipedia/commons/thumb/7/74/Normal_Distribution_PDF.svg/1920px-Normal_Distribution_PDF.svg.png\"\n",
    "     width=\"500px\">"
   ]
  },
  {
   "cell_type": "code",
   "execution_count": null,
   "id": "1acac61d-e64c-4104-8426-49de1a8c6502",
   "metadata": {},
   "outputs": [],
   "source": [
    "height = sdf[\"height\"]\n",
    "mu = height.mean()\n",
    "std = height.std()\n",
    "x = np.linspace(1300, 2100, 100)\n",
    "p = norm.pdf(x, mu, std)  # from scipy\n",
    "print(\"[HEIGHT] Average:\", mu)\n",
    "print(\"[HEIGHT] Std. Dev.\", std)"
   ]
  },
  {
   "cell_type": "code",
   "execution_count": null,
   "id": "5a0f16d5-9070-4d03-a308-117ed7787b0a",
   "metadata": {},
   "outputs": [],
   "source": [
    "norm.pdf?"
   ]
  },
  {
   "cell_type": "code",
   "execution_count": null,
   "id": "e45b2e8f-2b23-4a36-a91f-cab40c88eaa3",
   "metadata": {},
   "outputs": [],
   "source": [
    "step = 10  # (mm)\n",
    "n_bins = (2100 - 1300) // step"
   ]
  },
  {
   "cell_type": "code",
   "execution_count": null,
   "id": "b2c4411c-deb6-4643-b8c6-da9434bed973",
   "metadata": {},
   "outputs": [],
   "source": [
    "fig = plt.figure(figsize=(10, 4))\n",
    "\n",
    "plt.hist(height,\n",
    "         range=(1300, 2100),\n",
    "         bins=n_bins,\n",
    "         histtype='bar',\n",
    "         color='orange',\n",
    "         edgecolor='k')\n",
    "\n",
    "plt.xticks(np.arange(1300, 2150, step))\n",
    "plt.ylabel(\"Count\", fontsize=16, labelpad=16)\n",
    "\n",
    "ax1 = fig.axes[0]\n",
    "ax2 = ax1.twinx()\n",
    "ax2.plot(x, p, 'k', linewidth=2)\n",
    "ax2.set_ylabel(\"Probability\", fontsize=16, rotation=270, labelpad=16)\n",
    "\n",
    "plt.title('Height (mm)', fontsize=20, pad=16)\n",
    "plt.show()"
   ]
  },
  {
   "cell_type": "markdown",
   "id": "58f5a92a-1a16-4f57-a8d1-f7b633d5abab",
   "metadata": {},
   "source": [
    "---"
   ]
  },
  {
   "cell_type": "markdown",
   "id": "bc156e3b-09f7-4991-bb50-68ec31cc85d4",
   "metadata": {},
   "source": [
    "## 다른 확률 밀도 함수도 적용해 보기"
   ]
  },
  {
   "cell_type": "markdown",
   "id": "ed0f8e28-0cac-4a39-93e9-df3a7363a9e2",
   "metadata": {},
   "source": [
    "[Wikipedia: Cauchy distribution](https://en.wikipedia.org/wiki/Cauchy_distribution)\n",
    "\n",
    "<img src=\"https://upload.wikimedia.org/wikipedia/commons/thumb/8/8c/Cauchy_pdf.svg/600px-Cauchy_pdf.svg.png\"\n",
    "     width=\"500px\">"
   ]
  },
  {
   "cell_type": "code",
   "execution_count": null,
   "id": "a6ad5d6f-25b5-472b-aa6f-d693fe087522",
   "metadata": {},
   "outputs": [],
   "source": [
    "height.dropna(inplace=True)"
   ]
  },
  {
   "cell_type": "code",
   "execution_count": null,
   "id": "9859694c-d2c5-42a0-a854-142a7fa789f7",
   "metadata": {},
   "outputs": [],
   "source": [
    "from scipy.stats import cauchy\n",
    "x0, gamma = cauchy.fit(height)  # from scipy\n",
    "x0, gamma"
   ]
  },
  {
   "cell_type": "code",
   "execution_count": null,
   "id": "a6977277-f426-4e8f-b3d0-29f33d121c89",
   "metadata": {},
   "outputs": [],
   "source": [
    "p = cauchy.pdf(x, x0, gamma)"
   ]
  },
  {
   "cell_type": "code",
   "execution_count": null,
   "id": "4ccc8e58-69d0-402a-b294-529dc669f594",
   "metadata": {},
   "outputs": [],
   "source": [
    "fig = plt.figure(figsize=(10, 4))\n",
    "\n",
    "plt.hist(height,\n",
    "         range=(1300, 2100),\n",
    "         bins=n_bins,\n",
    "         histtype='bar',\n",
    "         color='orange',\n",
    "         edgecolor='k')\n",
    "\n",
    "plt.xticks(np.arange(1300, 2100, step))\n",
    "plt.ylabel(\"Count\", fontsize=16, labelpad=16)\n",
    "\n",
    "ax1 = fig.axes[0]\n",
    "ax2 = ax1.twinx()\n",
    "ax2.plot(x, p, 'k', linewidth=2)\n",
    "ax2.set_ylabel(\"Probability\", fontsize=16, rotation=270, labelpad=16)\n",
    "\n",
    "plt.title('Height (mm)', fontsize=20, pad=16)\n",
    "plt.show()"
   ]
  },
  {
   "cell_type": "markdown",
   "id": "a91bc81a-90dc-42a6-84dc-518d0de96b3d",
   "metadata": {},
   "source": [
    "---"
   ]
  },
  {
   "cell_type": "markdown",
   "id": "044871da-7533-4215-a5d3-6d0880c46282",
   "metadata": {
    "tags": []
   },
   "source": [
    "## 성별로 그룹 짓기"
   ]
  },
  {
   "cell_type": "code",
   "execution_count": null,
   "id": "54dac85b-6928-4f0d-81c3-77ec7be490c4",
   "metadata": {},
   "outputs": [],
   "source": [
    "df.groupby?"
   ]
  },
  {
   "cell_type": "code",
   "execution_count": null,
   "id": "9c85cc39-bd45-408b-8e38-edd9f145c829",
   "metadata": {},
   "outputs": [],
   "source": [
    "gb = df.groupby(by=\"ⓞ_02_성별\")\n",
    "gb"
   ]
  },
  {
   "cell_type": "code",
   "execution_count": null,
   "id": "65fd944e-c662-4482-8675-1271c9ddbf17",
   "metadata": {},
   "outputs": [],
   "source": [
    "for sex, group in gb:\n",
    "    print(sex, group, type(group))"
   ]
  },
  {
   "cell_type": "code",
   "execution_count": null,
   "id": "e8989d7d-7d20-432a-9949-0427eafa8a71",
   "metadata": {},
   "outputs": [],
   "source": [
    "df_male = gb.get_group(\"남\")\n",
    "df_female = gb.get_group(\"여\")\n",
    "\n",
    "col_height = \"①_003_키\"\n",
    "col_weight = \"①_031_몸무게\"\n",
    "\n",
    "sdf_male = df_male[[col_height, col_weight]].copy()\n",
    "sdf_female = df_female[[col_height, col_weight]].copy()\n",
    "\n",
    "sdf_male.columns = [\"height\", \"weight\"]\n",
    "sdf_female.columns = [\"height\", \"weight\"]\n",
    "\n",
    "# sdf_male.height = sdf_male.height.str.replace(\",\", \"\").astype(np.float32)\n",
    "# sdf_female.height = sdf_female.height.str.replace(\",\", \"\").astype(np.float32)\n",
    "\n",
    "sdf_male.dropna(inplace=True)\n",
    "sdf_female.dropna(inplace=True)"
   ]
  },
  {
   "cell_type": "code",
   "execution_count": null,
   "id": "82bd68e8-0703-47ad-a9af-ba88dae923bd",
   "metadata": {},
   "outputs": [],
   "source": [
    "sdf_male"
   ]
  },
  {
   "cell_type": "code",
   "execution_count": null,
   "id": "4a486672-04b9-48d8-a4ca-96d73a20c61b",
   "metadata": {},
   "outputs": [],
   "source": [
    "sdf_female"
   ]
  },
  {
   "cell_type": "code",
   "execution_count": null,
   "id": "8aa5a717-3289-4a85-825f-689ff0045c7e",
   "metadata": {},
   "outputs": [],
   "source": [
    "fig = plt.figure(figsize=(10, 4))\n",
    "\n",
    "step = 10\n",
    "n_bins = (2100 - 1300) // step\n",
    "\n",
    "\n",
    "plt.hist(sdf_male.height,\n",
    "         range=(1300, 2100),\n",
    "         bins=n_bins,\n",
    "         histtype='bar',\n",
    "         color=(0, 0, 1.0, 0.5),\n",
    "         edgecolor='k')\n",
    "\n",
    "plt.hist(sdf_female.height,\n",
    "         range=(1300, 2100),\n",
    "         bins=n_bins,\n",
    "         histtype='bar',\n",
    "         color=(1.0, 0, 0, 0.5),\n",
    "         edgecolor='k')\n",
    "\n",
    "plt.ylabel(\"Count\", fontsize=16, labelpad=16)\n",
    "plt.xlabel(\"Height (mm)\", fontsize=16, labelpad=16)\n",
    "plt.title('Male & Female Heights', fontsize=20, pad=16)\n",
    "plt.legend([\"Male\", \"Female\"])\n",
    "plt.show()"
   ]
  },
  {
   "cell_type": "markdown",
   "id": "73be107e-19dd-4880-83d3-3a12b82fcf6d",
   "metadata": {},
   "source": [
    "---"
   ]
  },
  {
   "cell_type": "markdown",
   "id": "b85a2174-35a4-4623-b40e-6b1fc803d9c1",
   "metadata": {},
   "source": [
    "## 나이로 그룹 짓기"
   ]
  },
  {
   "cell_type": "code",
   "execution_count": null,
   "id": "e32dd24b-2495-4fc4-b504-af5a829d49de",
   "metadata": {},
   "outputs": [],
   "source": [
    "df[\"ⓞ_06_나이_반올림\"].describe()"
   ]
  },
  {
   "cell_type": "code",
   "execution_count": null,
   "id": "59e1a4bd-46ad-4997-a0e1-3b19b461ef70",
   "metadata": {},
   "outputs": [],
   "source": [
    "categories = pd.cut(df[\"ⓞ_06_나이_반올림\"], np.arange(10, 71, 10))\n",
    "categories"
   ]
  },
  {
   "cell_type": "code",
   "execution_count": null,
   "id": "d89a010b-68c9-4b40-a3f1-5b01683e1918",
   "metadata": {},
   "outputs": [],
   "source": [
    "gb = df.groupby(categories)\n",
    "for age, group in gb:\n",
    "    print(age)\n",
    "    print(group.describe())"
   ]
  },
  {
   "cell_type": "code",
   "execution_count": null,
   "id": "bbbc61b4-c4af-4d20-b3f4-3dff8e764d4e",
   "metadata": {},
   "outputs": [],
   "source": [
    "dfs_age = {}\n",
    "\n",
    "for age, group in gb:\n",
    "    group = group[[\"①_003_키\", \"①_031_몸무게\"]].copy()    \n",
    "    group.columns = [\"height\", \"weight\"]\n",
    "    \n",
    "    dfs_age[age.left] = group\n",
    "\n",
    "for age, sdf in dfs_age.items():\n",
    "    print(age, type(sdf))"
   ]
  },
  {
   "cell_type": "code",
   "execution_count": null,
   "id": "d2957190-3527-491d-a916-0e6f171b84f2",
   "metadata": {},
   "outputs": [],
   "source": [
    "nrows = 2\n",
    "ncols = 3\n",
    "\n",
    "step = 50\n",
    "n_bins = (2100 - 1300) // step\n",
    "\n",
    "fig, axes = plt.subplots(nrows=nrows, ncols=ncols, figsize=(10, 6))\n",
    "\n",
    "for age, ax in zip(dfs_age.keys(), axes.flatten()):\n",
    "    sdf = dfs_age[age]\n",
    "    ax.hist(sdf.height,\n",
    "            range=(1300, 2100),\n",
    "            bins=n_bins,\n",
    "            histtype='bar',\n",
    "            color=\"skyblue\",\n",
    "            edgecolor='k')\n",
    "    ax.set_title(\"Age=%d's\"%(age))\n",
    "    ax.set_xlabel(\"Height (mm)\")\n",
    "    ax.set_ylabel(\"Count\")\n",
    "# end of for\n",
    "\n",
    "fig.tight_layout()"
   ]
  },
  {
   "cell_type": "code",
   "execution_count": null,
   "id": "93639ba1-0978-4cdb-9e8f-4d0fd933b71e",
   "metadata": {},
   "outputs": [],
   "source": [
    "axes.flatten()"
   ]
  },
  {
   "cell_type": "code",
   "execution_count": null,
   "id": "5fc1ed3f-e600-422d-97c5-653899f5521c",
   "metadata": {},
   "outputs": [],
   "source": [
    "fig, axes = plt.subplots(nrows=nrows, ncols=ncols, figsize=(10, 6))\n",
    "\n",
    "for age, ax in zip(dfs_age.keys(), axes.flatten()):\n",
    "    sdf = dfs_age[age]\n",
    "    ax.scatter(sdf.height,\n",
    "               sdf.weight,\n",
    "               marker='o',\n",
    "               color=(0, 0, 1.0, 0.1))\n",
    "    ax.set_title(\"Age=%d's\"%(age))\n",
    "    ax.set_xlabel(\"Height (mm)\")\n",
    "    ax.set_ylabel(\"Weight (kg)\")\n",
    "# end of for\n",
    "\n",
    "fig.tight_layout()"
   ]
  },
  {
   "cell_type": "code",
   "execution_count": null,
   "id": "30bc6679-d739-4fa1-b7a1-2c1338a07dd3",
   "metadata": {},
   "outputs": [],
   "source": [
    "from matplotlib import colors as mpl_colors\n",
    "\n",
    "nrows = 2\n",
    "ncols = 3\n",
    "\n",
    "step = 10\n",
    "n_bins = (2100 - 1300) // step\n",
    "\n",
    "colors = [\"red\", \"orange\", \"yellow\", \"green\", \"skyblue\", \"blue\", \"purple\"]\n",
    "\n",
    "fig = plt.figure(figsize=(10, 4))\n",
    "\n",
    "for i, (age, sdf) in enumerate(dfs_age.items()):\n",
    "    color = mpl_colors.to_rgba(colors[i])  # It returns a tuple.\n",
    "    color = np.array(color)  # Convert the tuple to numpy array to change alpha value.\n",
    "    color[3] = 0.7  # The last element of \"color\" is alpha of RGBA.\n",
    "    plt.hist(sdf.height,\n",
    "             range=(1300, 2100),\n",
    "             bins=n_bins,\n",
    "             histtype='bar',\n",
    "             color=color,\n",
    "             edgecolor='k')\n",
    "\n",
    "plt.xlabel(\"Height\", fontsize=16, labelpad=16)\n",
    "plt.ylabel(\"Count\", fontsize=16, labelpad=16)\n",
    "plt.title('Histogram by age', fontsize=18, pad=16)\n",
    "plt.legend([\"%d's\"%(age) for age in dfs_age.keys()])\n",
    "plt.show()"
   ]
  },
  {
   "cell_type": "code",
   "execution_count": null,
   "id": "fdfd6a94-77b2-4746-b3c0-d3e25010fce4",
   "metadata": {},
   "outputs": [],
   "source": []
  }
 ],
 "metadata": {
  "kernelspec": {
   "display_name": "Python 3 (ipykernel)",
   "language": "python",
   "name": "python3"
  },
  "language_info": {
   "codemirror_mode": {
    "name": "ipython",
    "version": 3
   },
   "file_extension": ".py",
   "mimetype": "text/x-python",
   "name": "python",
   "nbconvert_exporter": "python",
   "pygments_lexer": "ipython3",
   "version": "3.11.5"
  }
 },
 "nbformat": 4,
 "nbformat_minor": 5
}
